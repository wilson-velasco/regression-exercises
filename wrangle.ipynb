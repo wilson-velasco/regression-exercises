{
 "cells": [
  {
   "cell_type": "code",
   "execution_count": 1,
   "id": "9ae77b13",
   "metadata": {},
   "outputs": [],
   "source": [
    "#Standard imports for initial acquisition\n",
    "\n",
    "import pandas as pd\n",
    "import numpy as np\n",
    "import seaborn as sns\n",
    "import matplotlib.pyplot as plt\n",
    "\n",
    "from env import get_db_url\n",
    "import wrangle as w"
   ]
  },
  {
   "cell_type": "code",
   "execution_count": 2,
   "id": "ee8e3f57",
   "metadata": {},
   "outputs": [],
   "source": [
    "#Getting filepath for zillow from CodeUp DB\n",
    "\n",
    "z = get_db_url('zillow')"
   ]
  },
  {
   "cell_type": "code",
   "execution_count": 3,
   "id": "3e1fd2e7",
   "metadata": {},
   "outputs": [
    {
     "data": {
      "text/html": [
       "<div>\n",
       "<style scoped>\n",
       "    .dataframe tbody tr th:only-of-type {\n",
       "        vertical-align: middle;\n",
       "    }\n",
       "\n",
       "    .dataframe tbody tr th {\n",
       "        vertical-align: top;\n",
       "    }\n",
       "\n",
       "    .dataframe thead th {\n",
       "        text-align: right;\n",
       "    }\n",
       "</style>\n",
       "<table border=\"1\" class=\"dataframe\">\n",
       "  <thead>\n",
       "    <tr style=\"text-align: right;\">\n",
       "      <th></th>\n",
       "      <th>bedroomcnt</th>\n",
       "      <th>bathroomcnt</th>\n",
       "      <th>calculatedfinishedsquarefeet</th>\n",
       "      <th>taxvaluedollarcnt</th>\n",
       "      <th>yearbuilt</th>\n",
       "      <th>taxamount</th>\n",
       "      <th>fips</th>\n",
       "    </tr>\n",
       "  </thead>\n",
       "  <tbody>\n",
       "    <tr>\n",
       "      <th>0</th>\n",
       "      <td>0.0</td>\n",
       "      <td>0.0</td>\n",
       "      <td>NaN</td>\n",
       "      <td>27516.0</td>\n",
       "      <td>NaN</td>\n",
       "      <td>NaN</td>\n",
       "      <td>6037.0</td>\n",
       "    </tr>\n",
       "    <tr>\n",
       "      <th>1</th>\n",
       "      <td>0.0</td>\n",
       "      <td>0.0</td>\n",
       "      <td>NaN</td>\n",
       "      <td>10.0</td>\n",
       "      <td>NaN</td>\n",
       "      <td>NaN</td>\n",
       "      <td>6037.0</td>\n",
       "    </tr>\n",
       "    <tr>\n",
       "      <th>2</th>\n",
       "      <td>0.0</td>\n",
       "      <td>0.0</td>\n",
       "      <td>NaN</td>\n",
       "      <td>10.0</td>\n",
       "      <td>NaN</td>\n",
       "      <td>NaN</td>\n",
       "      <td>6037.0</td>\n",
       "    </tr>\n",
       "    <tr>\n",
       "      <th>3</th>\n",
       "      <td>0.0</td>\n",
       "      <td>0.0</td>\n",
       "      <td>NaN</td>\n",
       "      <td>2108.0</td>\n",
       "      <td>NaN</td>\n",
       "      <td>174.21</td>\n",
       "      <td>6037.0</td>\n",
       "    </tr>\n",
       "    <tr>\n",
       "      <th>4</th>\n",
       "      <td>4.0</td>\n",
       "      <td>2.0</td>\n",
       "      <td>3633.0</td>\n",
       "      <td>296425.0</td>\n",
       "      <td>2005.0</td>\n",
       "      <td>6941.39</td>\n",
       "      <td>6037.0</td>\n",
       "    </tr>\n",
       "  </tbody>\n",
       "</table>\n",
       "</div>"
      ],
      "text/plain": [
       "   bedroomcnt  bathroomcnt  calculatedfinishedsquarefeet  taxvaluedollarcnt  \\\n",
       "0         0.0          0.0                           NaN            27516.0   \n",
       "1         0.0          0.0                           NaN               10.0   \n",
       "2         0.0          0.0                           NaN               10.0   \n",
       "3         0.0          0.0                           NaN             2108.0   \n",
       "4         4.0          2.0                        3633.0           296425.0   \n",
       "\n",
       "   yearbuilt  taxamount    fips  \n",
       "0        NaN        NaN  6037.0  \n",
       "1        NaN        NaN  6037.0  \n",
       "2        NaN        NaN  6037.0  \n",
       "3        NaN     174.21  6037.0  \n",
       "4     2005.0    6941.39  6037.0  "
      ]
     },
     "execution_count": 3,
     "metadata": {},
     "output_type": "execute_result"
    }
   ],
   "source": [
    "#Retrieving data as specified in exercise from DB\n",
    "zillow = pd.read_sql('''SELECT bedroomcnt, bathroomcnt, calculatedfinishedsquarefeet, taxvaluedollarcnt, yearbuilt, taxamount, fips FROM properties_2017\n",
    "\tLEFT JOIN propertylandusetype USING (propertylandusetypeid)\n",
    "    WHERE propertylandusedesc = 'Single Family Residential';''', z)\n",
    "\n",
    "zillow.head()"
   ]
  },
  {
   "cell_type": "markdown",
   "id": "42bf2368",
   "metadata": {},
   "source": [
    "Before we take a look at the data, going to save it to local csv so I don't have to re-run this again."
   ]
  },
  {
   "cell_type": "code",
   "execution_count": 4,
   "id": "5a9c2d62",
   "metadata": {},
   "outputs": [],
   "source": [
    "zillow.to_csv('zillow.csv', index=False)"
   ]
  },
  {
   "cell_type": "code",
   "execution_count": 5,
   "id": "ca40d9de",
   "metadata": {},
   "outputs": [
    {
     "name": "stdout",
     "output_type": "stream",
     "text": [
      "<class 'pandas.core.frame.DataFrame'>\n",
      "RangeIndex: 2152863 entries, 0 to 2152862\n",
      "Data columns (total 7 columns):\n",
      " #   Column                        Dtype  \n",
      "---  ------                        -----  \n",
      " 0   bedroomcnt                    float64\n",
      " 1   bathroomcnt                   float64\n",
      " 2   calculatedfinishedsquarefeet  float64\n",
      " 3   taxvaluedollarcnt             float64\n",
      " 4   yearbuilt                     float64\n",
      " 5   taxamount                     float64\n",
      " 6   fips                          float64\n",
      "dtypes: float64(7)\n",
      "memory usage: 115.0 MB\n"
     ]
    }
   ],
   "source": [
    "zillow.info()"
   ]
  },
  {
   "cell_type": "markdown",
   "id": "e1a0f17b",
   "metadata": {},
   "source": [
    "Before we go any further, I want to rename some of the columns for clarity's sake."
   ]
  },
  {
   "cell_type": "markdown",
   "id": "269eefd9",
   "metadata": {},
   "source": [
    "(Did a Google search to find out what FIPS is. FIPS is a unique county identifier. Won't be using it to plot boxplots or histograms. More research revealed that they are counties in the Los Angeles area, so I'll rename those values since they're categorical variables.)"
   ]
  },
  {
   "cell_type": "code",
   "execution_count": 6,
   "id": "77b0c2e4",
   "metadata": {},
   "outputs": [],
   "source": [
    "zillow = zillow.rename(columns={'bedroomcnt': 'bedrooms'\n",
    "                       ,'bathroomcnt': 'bathrooms'\n",
    "                       ,'calculatedfinishedsquarefeet': 'sqft'\n",
    "                       ,'taxvaluedollarcnt': 'value'\n",
    "                       ,'fips': 'county'\n",
    "                      })"
   ]
  },
  {
   "cell_type": "code",
   "execution_count": 7,
   "id": "a9c31b46",
   "metadata": {
    "scrolled": true
   },
   "outputs": [
    {
     "data": {
      "text/plain": [
       "6037.0    1431811\n",
       "6059.0     555077\n",
       "6111.0     165975\n",
       "Name: county, dtype: int64"
      ]
     },
     "execution_count": 7,
     "metadata": {},
     "output_type": "execute_result"
    }
   ],
   "source": [
    "zillow.county.value_counts()"
   ]
  },
  {
   "cell_type": "code",
   "execution_count": 8,
   "id": "607d336c",
   "metadata": {},
   "outputs": [],
   "source": [
    "zillow.county = zillow.county.replace([6037.0, 6059.0, 6111.0], ['LA', 'Orange', 'Ventura'])"
   ]
  },
  {
   "cell_type": "markdown",
   "id": "e3d5cffb",
   "metadata": {},
   "source": [
    "For whatever reason, zillow.info( ) didn't include the Non-Null Count column... going to find them with isnull()"
   ]
  },
  {
   "cell_type": "code",
   "execution_count": 9,
   "id": "88933912",
   "metadata": {},
   "outputs": [
    {
     "data": {
      "text/plain": [
       "bedrooms       11\n",
       "bathrooms      11\n",
       "sqft         8484\n",
       "value         493\n",
       "yearbuilt    9337\n",
       "taxamount    4442\n",
       "county          0\n",
       "dtype: int64"
      ]
     },
     "execution_count": 9,
     "metadata": {},
     "output_type": "execute_result"
    }
   ],
   "source": [
    "zillow.isnull().sum()"
   ]
  },
  {
   "cell_type": "code",
   "execution_count": 10,
   "id": "60e16044",
   "metadata": {},
   "outputs": [],
   "source": [
    "#Seems to be a small amount of nulls compared to dataset size. Dropping all rows with NA values\n",
    "\n",
    "zillow = zillow.dropna()"
   ]
  },
  {
   "cell_type": "markdown",
   "id": "9aa062e1",
   "metadata": {},
   "source": [
    "Checking info again. Still not including the Non-Null count. Google says it's removed for really large dataframes"
   ]
  },
  {
   "cell_type": "code",
   "execution_count": 11,
   "id": "e3a4c552",
   "metadata": {},
   "outputs": [
    {
     "name": "stdout",
     "output_type": "stream",
     "text": [
      "<class 'pandas.core.frame.DataFrame'>\n",
      "Int64Index: 2140235 entries, 4 to 2152862\n",
      "Data columns (total 7 columns):\n",
      " #   Column     Dtype  \n",
      "---  ------     -----  \n",
      " 0   bedrooms   float64\n",
      " 1   bathrooms  float64\n",
      " 2   sqft       float64\n",
      " 3   value      float64\n",
      " 4   yearbuilt  float64\n",
      " 5   taxamount  float64\n",
      " 6   county     object \n",
      "dtypes: float64(6), object(1)\n",
      "memory usage: 130.6+ MB\n"
     ]
    }
   ],
   "source": [
    "zillow.info()"
   ]
  },
  {
   "cell_type": "code",
   "execution_count": 12,
   "id": "f6285616",
   "metadata": {},
   "outputs": [
    {
     "data": {
      "text/plain": [
       "12628"
      ]
     },
     "execution_count": 12,
     "metadata": {},
     "output_type": "execute_result"
    }
   ],
   "source": [
    "2152863 - 2140235 #Num of rows in original dataset minus #rows in new one"
   ]
  },
  {
   "cell_type": "code",
   "execution_count": 13,
   "id": "06c834db",
   "metadata": {},
   "outputs": [
    {
     "data": {
      "text/plain": [
       "0.005865677472277613"
      ]
     },
     "execution_count": 13,
     "metadata": {},
     "output_type": "execute_result"
    }
   ],
   "source": [
    "12628/2152863 #Percentage of affected data"
   ]
  },
  {
   "cell_type": "markdown",
   "id": "f0143696",
   "metadata": {},
   "source": [
    "12,628 rows were dropped from the original dataset of 2,152,863 rows, which is 0.5% of the dataset. I'm ok with that."
   ]
  },
  {
   "cell_type": "code",
   "execution_count": 14,
   "id": "ab46ac5c",
   "metadata": {},
   "outputs": [
    {
     "data": {
      "text/plain": [
       "bedrooms     False\n",
       "bathrooms    False\n",
       "sqft         False\n",
       "value        False\n",
       "yearbuilt    False\n",
       "taxamount    False\n",
       "county       False\n",
       "dtype: bool"
      ]
     },
     "execution_count": 14,
     "metadata": {},
     "output_type": "execute_result"
    }
   ],
   "source": [
    "#Double-checking to see if any nulls are remaining.\n",
    "\n",
    "zillow.isnull().any()"
   ]
  },
  {
   "cell_type": "markdown",
   "id": "7eddb2c0",
   "metadata": {},
   "source": [
    "We'll do an initial plotting of our data."
   ]
  },
  {
   "cell_type": "code",
   "execution_count": 15,
   "id": "c8d60b9e",
   "metadata": {},
   "outputs": [
    {
     "data": {
      "image/png": "[encoded data removed]",
      "text/plain": [
       "<Figure size 1600x300 with 6 Axes>"
      ]
     },
     "metadata": {},
     "output_type": "display_data"
    }
   ],
   "source": [
    "plt.figure(figsize=(16,3))\n",
    "\n",
    "for i, col in enumerate(zillow.drop(columns='county')):\n",
    "    plt.subplot(2,3,i+1)\n",
    "    plt.title(col)\n",
    "    sns.histplot(zillow[col], bins=20)\n",
    "#   sns.histplot(zillow[col][zillow[col].between(zillow[col].quantile(.05), zillow[col].quantile(.95))])\n",
    "#   plt.show()"
   ]
  },
  {
   "cell_type": "markdown",
   "id": "82444e12",
   "metadata": {},
   "source": [
    "Not terribly useful for sqft, value, and taxamount. Going to try using boxplots this time."
   ]
  },
  {
   "cell_type": "code",
   "execution_count": 16,
   "id": "a3eb8774",
   "metadata": {},
   "outputs": [
    {
     "data": {
      "image/png": "[encoded data removed]",
      "text/plain": [
       "<Figure size 1600x300 with 6 Axes>"
      ]
     },
     "metadata": {},
     "output_type": "display_data"
    }
   ],
   "source": [
    "plt.figure(figsize=(16,3))\n",
    "\n",
    "for i, col in enumerate(zillow.drop(columns='county')):\n",
    "    plt.subplot(2,3,i+1)\n",
    "    plt.title(col)\n",
    "    sns.boxplot(data=zillow, x=zillow[col])\n",
    "#    sns.boxplot(data=zillow, x=zillow[col][zillow[col].between(zillow[col].quantile(.05), zillow[col].quantile(.95))])"
   ]
  },
  {
   "cell_type": "markdown",
   "id": "d4956b49",
   "metadata": {},
   "source": [
    "In deciding how to handle the outliers, looking at the above boxplots, I'm going to do see what these visualizations would look if the entire dataframe was just based on 3 standard deviations of number of bedrooms alone. "
   ]
  },
  {
   "cell_type": "code",
   "execution_count": 17,
   "id": "6a2aec8e",
   "metadata": {},
   "outputs": [],
   "source": [
    "lower_limit = zillow.bedrooms.mean() - (3 * zillow.bedrooms.std())"
   ]
  },
  {
   "cell_type": "code",
   "execution_count": 18,
   "id": "5fd95f2b",
   "metadata": {},
   "outputs": [],
   "source": [
    "upper_limit = zillow.bedrooms.mean() + (3 * zillow.bedrooms.std())"
   ]
  },
  {
   "cell_type": "code",
   "execution_count": 19,
   "id": "7200d8aa",
   "metadata": {},
   "outputs": [
    {
     "data": {
      "image/png": "[encoded data removed]",
      "text/plain": [
       "<Figure size 1600x300 with 6 Axes>"
      ]
     },
     "metadata": {},
     "output_type": "display_data"
    }
   ],
   "source": [
    "plt.figure(figsize=(16,3))\n",
    "\n",
    "for i, col in enumerate(zillow.drop(columns='county')):\n",
    "    plt.subplot(2,3,i+1)\n",
    "    plt.title(col)\n",
    "    sns.boxplot(data=zillow, x=zillow[col][zillow.bedrooms.between(lower_limit, upper_limit)])"
   ]
  },
  {
   "cell_type": "markdown",
   "id": "3651309a",
   "metadata": {},
   "source": [
    "Well... didn't seem to do much. I'm checking who exactly has so much square footage with less than 6 bedrooms..."
   ]
  },
  {
   "cell_type": "code",
   "execution_count": 20,
   "id": "ba545393",
   "metadata": {},
   "outputs": [
    {
     "data": {
      "text/html": [
       "<div>\n",
       "<style scoped>\n",
       "    .dataframe tbody tr th:only-of-type {\n",
       "        vertical-align: middle;\n",
       "    }\n",
       "\n",
       "    .dataframe tbody tr th {\n",
       "        vertical-align: top;\n",
       "    }\n",
       "\n",
       "    .dataframe thead th {\n",
       "        text-align: right;\n",
       "    }\n",
       "</style>\n",
       "<table border=\"1\" class=\"dataframe\">\n",
       "  <thead>\n",
       "    <tr style=\"text-align: right;\">\n",
       "      <th></th>\n",
       "      <th>bedrooms</th>\n",
       "      <th>bathrooms</th>\n",
       "      <th>sqft</th>\n",
       "      <th>value</th>\n",
       "      <th>yearbuilt</th>\n",
       "      <th>taxamount</th>\n",
       "      <th>county</th>\n",
       "    </tr>\n",
       "  </thead>\n",
       "  <tbody>\n",
       "    <tr>\n",
       "      <th>849924</th>\n",
       "      <td>4.0</td>\n",
       "      <td>4.0</td>\n",
       "      <td>952576.0</td>\n",
       "      <td>742727.0</td>\n",
       "      <td>1964.0</td>\n",
       "      <td>7694.72</td>\n",
       "      <td>Orange</td>\n",
       "    </tr>\n",
       "  </tbody>\n",
       "</table>\n",
       "</div>"
      ],
      "text/plain": [
       "        bedrooms  bathrooms      sqft     value  yearbuilt  taxamount  county\n",
       "849924       4.0        4.0  952576.0  742727.0     1964.0    7694.72  Orange"
      ]
     },
     "execution_count": 20,
     "metadata": {},
     "output_type": "execute_result"
    }
   ],
   "source": [
    "zillow[zillow.sqft == zillow.sqft.max()]"
   ]
  },
  {
   "cell_type": "markdown",
   "id": "d7f5664c",
   "metadata": {},
   "source": [
    "The above seems... wrong. 1 million sqft for only 4 bd/bth, and it's somehow only $750,000?"
   ]
  },
  {
   "cell_type": "markdown",
   "id": "2c3a0c79",
   "metadata": {},
   "source": [
    "Ok. Different approach. I'm going to handle outliers in the following fashion:\n",
    "\n",
    "- bedrooms: cutting off properties with more than 10 bedrooms.\n",
    "- bathrooms: cutting off properties with more than 10 bathrooms.\n",
    "- sqft: cutting off properties in the top 1%\n",
    "- value: cutting off properties in the top 1%\n",
    "- yearbuilt: we'll leave it as is.\n",
    "- taxamount: cutting off properties in the top 1%"
   ]
  },
  {
   "cell_type": "code",
   "execution_count": 21,
   "id": "d05278a2",
   "metadata": {},
   "outputs": [],
   "source": [
    "zillow.bedrooms = zillow.bedrooms[zillow.bedrooms <= 10]\n",
    "zillow.bathrooms = zillow.bathrooms[zillow.bathrooms <=10]\n",
    "zillow.sqft = zillow.sqft[zillow.sqft < zillow.sqft.quantile(.99)]\n",
    "zillow.value = zillow.value[zillow.value < zillow.value.quantile(.99)]\n",
    "zillow.taxamount = zillow.taxamount[zillow.taxamount < zillow.taxamount.quantile(.99)]"
   ]
  },
  {
   "cell_type": "markdown",
   "id": "50e4f70c",
   "metadata": {},
   "source": [
    "Replotting to see how distributions look now."
   ]
  },
  {
   "cell_type": "code",
   "execution_count": 22,
   "id": "1a8274b2",
   "metadata": {},
   "outputs": [
    {
     "data": {
      "image/png": "[encoded data removed]",
      "text/plain": [
       "<Figure size 1600x300 with 6 Axes>"
      ]
     },
     "metadata": {},
     "output_type": "display_data"
    }
   ],
   "source": [
    "plt.figure(figsize=(16,3))\n",
    "\n",
    "for i, col in enumerate(zillow.drop(columns='county')):\n",
    "    plt.subplot(2,3,i+1)\n",
    "    plt.title(col)\n",
    "    sns.boxplot(data=zillow, x=zillow[col])"
   ]
  },
  {
   "cell_type": "markdown",
   "id": "e927faed",
   "metadata": {},
   "source": [
    "Ok, that looks better. Now we'll take a look at our new dataframe."
   ]
  },
  {
   "cell_type": "code",
   "execution_count": 23,
   "id": "546c5d80",
   "metadata": {
    "scrolled": true
   },
   "outputs": [
    {
     "name": "stdout",
     "output_type": "stream",
     "text": [
      "<class 'pandas.core.frame.DataFrame'>\n",
      "Int64Index: 2140235 entries, 4 to 2152862\n",
      "Data columns (total 7 columns):\n",
      " #   Column     Dtype  \n",
      "---  ------     -----  \n",
      " 0   bedrooms   float64\n",
      " 1   bathrooms  float64\n",
      " 2   sqft       float64\n",
      " 3   value      float64\n",
      " 4   yearbuilt  float64\n",
      " 5   taxamount  float64\n",
      " 6   county     object \n",
      "dtypes: float64(6), object(1)\n",
      "memory usage: 130.6+ MB\n"
     ]
    }
   ],
   "source": [
    "zillow.info()"
   ]
  },
  {
   "cell_type": "markdown",
   "id": "63228b22",
   "metadata": {},
   "source": [
    "This shows that the original dataframe did not have any rows removed. There are new NaNs in place, however. And the dtypes switched again too..."
   ]
  },
  {
   "cell_type": "code",
   "execution_count": 24,
   "id": "a29f33a0",
   "metadata": {},
   "outputs": [
    {
     "data": {
      "text/plain": [
       "bedrooms        79\n",
       "bathrooms      353\n",
       "sqft         21415\n",
       "value        21403\n",
       "yearbuilt        0\n",
       "taxamount    21403\n",
       "county           0\n",
       "dtype: int64"
      ]
     },
     "execution_count": 24,
     "metadata": {},
     "output_type": "execute_result"
    }
   ],
   "source": [
    "zillow.isnull().sum()"
   ]
  },
  {
   "cell_type": "markdown",
   "id": "92fb3a79",
   "metadata": {},
   "source": [
    "We're going to drop those NaN values."
   ]
  },
  {
   "cell_type": "code",
   "execution_count": 25,
   "id": "6e2abd1e",
   "metadata": {},
   "outputs": [],
   "source": [
    "zillow = zillow.dropna()"
   ]
  },
  {
   "cell_type": "code",
   "execution_count": 26,
   "id": "e6378aaa",
   "metadata": {},
   "outputs": [
    {
     "name": "stdout",
     "output_type": "stream",
     "text": [
      "<class 'pandas.core.frame.DataFrame'>\n",
      "Int64Index: 2105872 entries, 4 to 2152862\n",
      "Data columns (total 7 columns):\n",
      " #   Column     Dtype  \n",
      "---  ------     -----  \n",
      " 0   bedrooms   float64\n",
      " 1   bathrooms  float64\n",
      " 2   sqft       float64\n",
      " 3   value      float64\n",
      " 4   yearbuilt  float64\n",
      " 5   taxamount  float64\n",
      " 6   county     object \n",
      "dtypes: float64(6), object(1)\n",
      "memory usage: 128.5+ MB\n"
     ]
    }
   ],
   "source": [
    "zillow.info()"
   ]
  },
  {
   "cell_type": "markdown",
   "id": "dc4c2fa0",
   "metadata": {},
   "source": [
    "We're left with 2,105,872 rows from the original 2,152,863 rows. "
   ]
  },
  {
   "cell_type": "code",
   "execution_count": 27,
   "id": "5a89b120",
   "metadata": {},
   "outputs": [
    {
     "data": {
      "text/plain": [
       "0.9781727866566521"
      ]
     },
     "execution_count": 27,
     "metadata": {},
     "output_type": "execute_result"
    }
   ],
   "source": [
    "2105872 / 2152863 #Find percentage"
   ]
  },
  {
   "cell_type": "markdown",
   "id": "987d3e8d",
   "metadata": {},
   "source": [
    "We've ended with 97.8% of the original dataset. Still plenty of data to work with."
   ]
  },
  {
   "cell_type": "markdown",
   "id": "bf78b100",
   "metadata": {},
   "source": [
    "I'm going to switch dtypes again..."
   ]
  },
  {
   "cell_type": "code",
   "execution_count": 28,
   "id": "512f6abe",
   "metadata": {},
   "outputs": [],
   "source": [
    "zillow[['bedrooms', 'sqft', 'yearbuilt', 'value', 'taxamount']] = zillow[['bedrooms', 'sqft', 'yearbuilt', 'value', 'taxamount']].astype(int)"
   ]
  },
  {
   "cell_type": "code",
   "execution_count": 29,
   "id": "de3b09ea",
   "metadata": {},
   "outputs": [
    {
     "data": {
      "text/plain": [
       "bedrooms       int64\n",
       "bathrooms    float64\n",
       "sqft           int64\n",
       "value          int64\n",
       "yearbuilt      int64\n",
       "taxamount      int64\n",
       "county        object\n",
       "dtype: object"
      ]
     },
     "execution_count": 29,
     "metadata": {},
     "output_type": "execute_result"
    }
   ],
   "source": [
    "zillow.dtypes"
   ]
  },
  {
   "cell_type": "markdown",
   "id": "4a768391",
   "metadata": {},
   "source": [
    "That's better."
   ]
  },
  {
   "cell_type": "markdown",
   "id": "9f6def3b",
   "metadata": {},
   "source": [
    "Ok, I put all of the above in the wrangle.py file. Running it below to see if it works."
   ]
  },
  {
   "cell_type": "code",
   "execution_count": 30,
   "id": "db293243",
   "metadata": {},
   "outputs": [],
   "source": [
    "zillow = w.wrangle_zillow()"
   ]
  },
  {
   "cell_type": "code",
   "execution_count": 31,
   "id": "f03aa002",
   "metadata": {},
   "outputs": [
    {
     "name": "stdout",
     "output_type": "stream",
     "text": [
      "<class 'pandas.core.frame.DataFrame'>\n",
      "Int64Index: 2105872 entries, 4 to 2152862\n",
      "Data columns (total 7 columns):\n",
      " #   Column     Dtype  \n",
      "---  ------     -----  \n",
      " 0   bedrooms   int64  \n",
      " 1   bathrooms  float64\n",
      " 2   sqft       int64  \n",
      " 3   value      int64  \n",
      " 4   yearbuilt  int64  \n",
      " 5   taxamount  int64  \n",
      " 6   county     object \n",
      "dtypes: float64(1), int64(5), object(1)\n",
      "memory usage: 128.5+ MB\n"
     ]
    }
   ],
   "source": [
    "zillow.info()"
   ]
  },
  {
   "cell_type": "code",
   "execution_count": 32,
   "id": "a6cb0f55",
   "metadata": {},
   "outputs": [
    {
     "data": {
      "text/plain": [
       "bedrooms     False\n",
       "bathrooms    False\n",
       "sqft         False\n",
       "value        False\n",
       "yearbuilt    False\n",
       "taxamount    False\n",
       "county       False\n",
       "dtype: bool"
      ]
     },
     "execution_count": 32,
     "metadata": {},
     "output_type": "execute_result"
    }
   ],
   "source": [
    "zillow.isnull().any()"
   ]
  },
  {
   "cell_type": "code",
   "execution_count": 33,
   "id": "38075e1f",
   "metadata": {},
   "outputs": [
    {
     "data": {
      "text/html": [
       "<div>\n",
       "<style scoped>\n",
       "    .dataframe tbody tr th:only-of-type {\n",
       "        vertical-align: middle;\n",
       "    }\n",
       "\n",
       "    .dataframe tbody tr th {\n",
       "        vertical-align: top;\n",
       "    }\n",
       "\n",
       "    .dataframe thead th {\n",
       "        text-align: right;\n",
       "    }\n",
       "</style>\n",
       "<table border=\"1\" class=\"dataframe\">\n",
       "  <thead>\n",
       "    <tr style=\"text-align: right;\">\n",
       "      <th></th>\n",
       "      <th>bedrooms</th>\n",
       "      <th>bathrooms</th>\n",
       "      <th>sqft</th>\n",
       "      <th>value</th>\n",
       "      <th>yearbuilt</th>\n",
       "      <th>taxamount</th>\n",
       "      <th>county</th>\n",
       "    </tr>\n",
       "  </thead>\n",
       "  <tbody>\n",
       "    <tr>\n",
       "      <th>4</th>\n",
       "      <td>4</td>\n",
       "      <td>2.0</td>\n",
       "      <td>3633</td>\n",
       "      <td>296425</td>\n",
       "      <td>2005</td>\n",
       "      <td>6941</td>\n",
       "      <td>LA</td>\n",
       "    </tr>\n",
       "    <tr>\n",
       "      <th>6</th>\n",
       "      <td>3</td>\n",
       "      <td>4.0</td>\n",
       "      <td>1620</td>\n",
       "      <td>847770</td>\n",
       "      <td>2011</td>\n",
       "      <td>10244</td>\n",
       "      <td>LA</td>\n",
       "    </tr>\n",
       "    <tr>\n",
       "      <th>7</th>\n",
       "      <td>3</td>\n",
       "      <td>2.0</td>\n",
       "      <td>2077</td>\n",
       "      <td>646760</td>\n",
       "      <td>1926</td>\n",
       "      <td>7924</td>\n",
       "      <td>LA</td>\n",
       "    </tr>\n",
       "    <tr>\n",
       "      <th>11</th>\n",
       "      <td>0</td>\n",
       "      <td>0.0</td>\n",
       "      <td>1200</td>\n",
       "      <td>5328</td>\n",
       "      <td>1972</td>\n",
       "      <td>91</td>\n",
       "      <td>LA</td>\n",
       "    </tr>\n",
       "    <tr>\n",
       "      <th>14</th>\n",
       "      <td>0</td>\n",
       "      <td>0.0</td>\n",
       "      <td>171</td>\n",
       "      <td>6920</td>\n",
       "      <td>1973</td>\n",
       "      <td>255</td>\n",
       "      <td>LA</td>\n",
       "    </tr>\n",
       "  </tbody>\n",
       "</table>\n",
       "</div>"
      ],
      "text/plain": [
       "    bedrooms  bathrooms  sqft   value  yearbuilt  taxamount county\n",
       "4          4        2.0  3633  296425       2005       6941     LA\n",
       "6          3        4.0  1620  847770       2011      10244     LA\n",
       "7          3        2.0  2077  646760       1926       7924     LA\n",
       "11         0        0.0  1200    5328       1972         91     LA\n",
       "14         0        0.0   171    6920       1973        255     LA"
      ]
     },
     "execution_count": 33,
     "metadata": {},
     "output_type": "execute_result"
    }
   ],
   "source": [
    "zillow.head()"
   ]
  },
  {
   "cell_type": "markdown",
   "id": "6d7e3214",
   "metadata": {},
   "source": [
    "It works!"
   ]
  }
 ],
 "metadata": {
  "kernelspec": {
   "display_name": "Python 3 (ipykernel)",
   "language": "python",
   "name": "python3"
  },
  "language_info": {
   "codemirror_mode": {
    "name": "ipython",
    "version": 3
   },
   "file_extension": ".py",
   "mimetype": "text/x-python",
   "name": "python",
   "nbconvert_exporter": "python",
   "pygments_lexer": "ipython3",
   "version": "3.9.13"
  }
 },
 "nbformat": 4,
 "nbformat_minor": 5
}
